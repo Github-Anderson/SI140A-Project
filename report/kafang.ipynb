{
 "cells": [
  {
   "cell_type": "code",
   "execution_count": null,
   "metadata": {},
   "outputs": [
    {
     "ename": "ValueError",
     "evalue": "For each axis slice, the sum of the observed frequencies must agree with the sum of the expected frequencies to a relative tolerance of 1.4901161193847656e-08, but the percent differences are:\n3.04",
     "output_type": "error",
     "traceback": [
      "\u001b[1;31m---------------------------------------------------------------------------\u001b[0m",
      "\u001b[1;31mValueError\u001b[0m                                Traceback (most recent call last)",
      "\u001b[1;32m~\\AppData\\Local\\Temp\\ipykernel_22288\\2548154154.py\u001b[0m in \u001b[0;36m?\u001b[1;34m()\u001b[0m\n\u001b[0;32m     38\u001b[0m \u001b[0mresults\u001b[0m \u001b[1;33m=\u001b[0m \u001b[1;33m[\u001b[0m\u001b[1;33m]\u001b[0m\u001b[1;33m\u001b[0m\u001b[1;33m\u001b[0m\u001b[0m\n\u001b[0;32m     39\u001b[0m \u001b[1;33m\u001b[0m\u001b[0m\n\u001b[0;32m     40\u001b[0m \u001b[1;31m# Perform analysis for each column\u001b[0m\u001b[1;33m\u001b[0m\u001b[1;33m\u001b[0m\u001b[0m\n\u001b[0;32m     41\u001b[0m \u001b[1;32mfor\u001b[0m \u001b[0mcol\u001b[0m \u001b[1;32min\u001b[0m \u001b[0mrange\u001b[0m\u001b[1;33m(\u001b[0m\u001b[0mdf_observed\u001b[0m\u001b[1;33m.\u001b[0m\u001b[0mshape\u001b[0m\u001b[1;33m[\u001b[0m\u001b[1;36m1\u001b[0m\u001b[1;33m]\u001b[0m\u001b[1;33m)\u001b[0m\u001b[1;33m:\u001b[0m\u001b[1;33m\u001b[0m\u001b[1;33m\u001b[0m\u001b[0m\n\u001b[1;32m---> 42\u001b[1;33m     column_result = chi_square_analysis(\n\u001b[0m\u001b[0;32m     43\u001b[0m         \u001b[0mdf_observed\u001b[0m\u001b[1;33m[\u001b[0m\u001b[0mcol\u001b[0m\u001b[1;33m]\u001b[0m\u001b[1;33m,\u001b[0m\u001b[1;33m\u001b[0m\u001b[1;33m\u001b[0m\u001b[0m\n\u001b[0;32m     44\u001b[0m         \u001b[0mdf_simulated\u001b[0m\u001b[1;33m[\u001b[0m\u001b[0mcol\u001b[0m\u001b[1;33m]\u001b[0m\u001b[1;33m\u001b[0m\u001b[1;33m\u001b[0m\u001b[0m\n\u001b[0;32m     45\u001b[0m     \u001b[1;33m)\u001b[0m\u001b[1;33m\u001b[0m\u001b[1;33m\u001b[0m\u001b[0m\n",
      "\u001b[1;32m~\\AppData\\Local\\Temp\\ipykernel_22288\\2548154154.py\u001b[0m in \u001b[0;36m?\u001b[1;34m(observed_col, simulated_col)\u001b[0m\n\u001b[0;32m     22\u001b[0m     \u001b[0msim_hist\u001b[0m\u001b[1;33m,\u001b[0m \u001b[0m_\u001b[0m \u001b[1;33m=\u001b[0m \u001b[0mnp\u001b[0m\u001b[1;33m.\u001b[0m\u001b[0mhistogram\u001b[0m\u001b[1;33m(\u001b[0m\u001b[0msimulated_col\u001b[0m\u001b[1;33m,\u001b[0m \u001b[0mbins\u001b[0m\u001b[1;33m=\u001b[0m\u001b[0mbins\u001b[0m\u001b[1;33m)\u001b[0m\u001b[1;33m\u001b[0m\u001b[1;33m\u001b[0m\u001b[0m\n\u001b[0;32m     23\u001b[0m \u001b[1;33m\u001b[0m\u001b[0m\n\u001b[0;32m     24\u001b[0m     \u001b[1;31m# Perform chi-square test\u001b[0m\u001b[1;33m\u001b[0m\u001b[1;33m\u001b[0m\u001b[0m\n\u001b[0;32m     25\u001b[0m     \u001b[1;31m# Use chi-square test of independence\u001b[0m\u001b[1;33m\u001b[0m\u001b[1;33m\u001b[0m\u001b[0m\n\u001b[1;32m---> 26\u001b[1;33m     \u001b[0mchi2_stat\u001b[0m\u001b[1;33m,\u001b[0m \u001b[0mp_value\u001b[0m \u001b[1;33m=\u001b[0m \u001b[0mstats\u001b[0m\u001b[1;33m.\u001b[0m\u001b[0mchisquare\u001b[0m\u001b[1;33m(\u001b[0m\u001b[0mobs_hist\u001b[0m\u001b[1;33m,\u001b[0m \u001b[0msim_hist\u001b[0m\u001b[1;33m)\u001b[0m\u001b[1;33m\u001b[0m\u001b[1;33m\u001b[0m\u001b[0m\n\u001b[0m\u001b[0;32m     27\u001b[0m     \u001b[0mprint\u001b[0m\u001b[1;33m(\u001b[0m\u001b[0mobs_hist\u001b[0m\u001b[1;33m)\u001b[0m\u001b[1;33m\u001b[0m\u001b[1;33m\u001b[0m\u001b[0m\n\u001b[0;32m     28\u001b[0m     \u001b[1;32mraise\u001b[0m \u001b[0mRuntimeError\u001b[0m\u001b[1;33m(\u001b[0m\u001b[0msim_hist\u001b[0m\u001b[1;33m)\u001b[0m\u001b[1;33m\u001b[0m\u001b[1;33m\u001b[0m\u001b[0m\n\u001b[0;32m     29\u001b[0m     return {\n",
      "\u001b[1;32mc:\\anaconda\\envs\\project\\Lib\\site-packages\\scipy\\stats\\_stats_py.py\u001b[0m in \u001b[0;36m?\u001b[1;34m(f_obs, f_exp, ddof, axis)\u001b[0m\n\u001b[0;32m   7844\u001b[0m     \u001b[1;33m...\u001b[0m           \u001b[0maxis\u001b[0m\u001b[1;33m=\u001b[0m\u001b[1;36m1\u001b[0m\u001b[1;33m)\u001b[0m\u001b[1;33m\u001b[0m\u001b[1;33m\u001b[0m\u001b[0m\n\u001b[0;32m   7845\u001b[0m     \u001b[0mPower_divergenceResult\u001b[0m\u001b[1;33m(\u001b[0m\u001b[0mstatistic\u001b[0m\u001b[1;33m=\u001b[0m\u001b[0marray\u001b[0m\u001b[1;33m(\u001b[0m\u001b[1;33m[\u001b[0m\u001b[1;36m3.5\u001b[0m \u001b[1;33m,\u001b[0m \u001b[1;36m9.25\u001b[0m\u001b[1;33m]\u001b[0m\u001b[1;33m)\u001b[0m\u001b[1;33m,\u001b[0m \u001b[0mpvalue\u001b[0m\u001b[1;33m=\u001b[0m\u001b[0marray\u001b[0m\u001b[1;33m(\u001b[0m\u001b[1;33m[\u001b[0m\u001b[1;36m0.62338763\u001b[0m\u001b[1;33m,\u001b[0m \u001b[1;36m0.09949846\u001b[0m\u001b[1;33m]\u001b[0m\u001b[1;33m)\u001b[0m\u001b[1;33m)\u001b[0m\u001b[1;33m\u001b[0m\u001b[1;33m\u001b[0m\u001b[0m\n\u001b[0;32m   7846\u001b[0m \u001b[1;33m\u001b[0m\u001b[0m\n\u001b[0;32m   7847\u001b[0m     \"\"\"  # noqa: E501\n\u001b[1;32m-> 7848\u001b[1;33m     return power_divergence(f_obs, f_exp=f_exp, ddof=ddof, axis=axis,\n\u001b[0m\u001b[0;32m   7849\u001b[0m                             \u001b[0mlambda_\u001b[0m\u001b[1;33m=\u001b[0m\u001b[1;34m\"pearson\"\u001b[0m\u001b[1;33m)\u001b[0m\u001b[1;33m\u001b[0m\u001b[1;33m\u001b[0m\u001b[0m\n",
      "\u001b[1;32mc:\\anaconda\\envs\\project\\Lib\\site-packages\\scipy\\stats\\_stats_py.py\u001b[0m in \u001b[0;36m?\u001b[1;34m(f_obs, f_exp, ddof, axis, lambda_)\u001b[0m\n\u001b[0;32m   7635\u001b[0m                    \u001b[1;33mf\"\u001b[0m\u001b[1;33mfrequencies must agree with the sum of the \u001b[0m\u001b[1;33m\"\u001b[0m\u001b[1;33m\u001b[0m\u001b[1;33m\u001b[0m\u001b[0m\n\u001b[0;32m   7636\u001b[0m                    \u001b[1;33mf\"\u001b[0m\u001b[1;33mexpected frequencies to a relative tolerance \u001b[0m\u001b[1;33m\"\u001b[0m\u001b[1;33m\u001b[0m\u001b[1;33m\u001b[0m\u001b[0m\n\u001b[0;32m   7637\u001b[0m                    \u001b[1;33mf\"\u001b[0m\u001b[1;33mof \u001b[0m\u001b[1;33m{\u001b[0m\u001b[0mrtol\u001b[0m\u001b[1;33m}\u001b[0m\u001b[1;33m, but the percent differences are:\\n\u001b[0m\u001b[1;33m\"\u001b[0m\u001b[1;33m\u001b[0m\u001b[1;33m\u001b[0m\u001b[0m\n\u001b[0;32m   7638\u001b[0m                    \u001b[1;33mf\"\u001b[0m\u001b[1;33m{\u001b[0m\u001b[0mrelative_diff\u001b[0m\u001b[1;33m}\u001b[0m\u001b[1;33m\"\u001b[0m\u001b[1;33m)\u001b[0m\u001b[1;33m\u001b[0m\u001b[1;33m\u001b[0m\u001b[0m\n\u001b[1;32m-> 7639\u001b[1;33m             \u001b[1;32mraise\u001b[0m \u001b[0mValueError\u001b[0m\u001b[1;33m(\u001b[0m\u001b[0mmsg\u001b[0m\u001b[1;33m)\u001b[0m\u001b[1;33m\u001b[0m\u001b[1;33m\u001b[0m\u001b[0m\n\u001b[0m\u001b[0;32m   7640\u001b[0m \u001b[1;33m\u001b[0m\u001b[0m\n\u001b[0;32m   7641\u001b[0m     \u001b[1;32melse\u001b[0m\u001b[1;33m:\u001b[0m\u001b[1;33m\u001b[0m\u001b[1;33m\u001b[0m\u001b[0m\n\u001b[0;32m   7642\u001b[0m         \u001b[1;31m# Ignore 'invalid' errors so the edge case of a data set with length 0\u001b[0m\u001b[1;33m\u001b[0m\u001b[1;33m\u001b[0m\u001b[0m\n",
      "\u001b[1;31mValueError\u001b[0m: For each axis slice, the sum of the observed frequencies must agree with the sum of the expected frequencies to a relative tolerance of 1.4901161193847656e-08, but the percent differences are:\n3.04"
     ]
    }
   ],
   "source": [
    "import pandas as pd\n",
    "import numpy as np\n",
    "from scipy import stats\n",
    "import matplotlib.pyplot as plt\n",
    "\n",
    "# Read the CSV files\n",
    "df_observed = pd.read_csv('data2.csv', header=None)\n",
    "df_simulated = pd.read_csv('data3.csv', header=None)\n",
    "\n",
    "# Function to perform chi-square test for each column\n",
    "def chi_square_analysis(observed_col, simulated_col):\n",
    "    # Create histogram bins\n",
    "    # Use the same number of bins for both datasets to ensure comparability\n",
    "    min_val = min(observed_col.min(), simulated_col.min())\n",
    "    max_val = max(observed_col.max(), simulated_col.max())\n",
    "    \n",
    "    # Create 10 bins across the data range\n",
    "    bins = np.linspace(min_val, max_val, 11)\n",
    "    \n",
    "    # Compute frequency in each bin\n",
    "    obs_hist, _ = np.histogram(observed_col, bins=bins)\n",
    "    sim_hist, _ = np.histogram(simulated_col, bins=bins)\n",
    "    \n",
    "    # Perform chi-square test\n",
    "    # Use chi-square test of independence\n",
    "    chi2_stat, p_value = stats.chisquare(obs_hist, sim_hist)\n",
    "    print(obs_hist)\n",
    "    raise RuntimeError(sim_hist)\n",
    "    return {\n",
    "        'chi2_statistic': chi2_stat,\n",
    "        'p_value': p_value,\n",
    "        'obs_hist': obs_hist,\n",
    "        'sim_hist': sim_hist,\n",
    "        'bins': bins[:-1]  # exclude the last bin edge\n",
    "    }\n",
    "\n",
    "# Store results for each column\n",
    "results = []\n",
    "\n",
    "# Perform analysis for each column\n",
    "for col in range(df_observed.shape[1]):\n",
    "    column_result = chi_square_analysis(\n",
    "        df_observed[col], \n",
    "        df_simulated[col]\n",
    "    )\n",
    "    column_result['column'] = col\n",
    "    results.append(column_result)\n",
    "\n",
    "# Visualization and detailed reporting\n",
    "plt.figure(figsize=(15, 5 * len(results)))\n",
    "for i, result in enumerate(results):\n",
    "    plt.subplot(len(results), 1, i+1)\n",
    "    plt.bar(result['bins'], result['obs_hist'], alpha=0.5, label='Observed', color='blue')\n",
    "    plt.bar(result['bins'], result['sim_hist'], alpha=0.5, label='Simulated', color='red')\n",
    "    plt.title(f'Column {result[\"column\"]} Comparison')\n",
    "    plt.xlabel('Bins')\n",
    "    plt.ylabel('Frequency')\n",
    "    plt.legend()\n",
    "    \n",
    "    # Print statistical results\n",
    "    print(f\"\\nColumn {result['column']} Chi-Square Analysis:\")\n",
    "    print(f\"Chi-Square Statistic: {result['chi2_statistic']:.4f}\")\n",
    "    print(f\"P-value: {result['p_value']:.4f}\")\n",
    "    print(\"Interpretation:\")\n",
    "    if result['p_value'] < 0.05:\n",
    "        print(\"Reject Null Hypothesis: Significant difference between observed and simulated data\")\n",
    "    else:\n",
    "        print(\"Fail to Reject Null Hypothesis: No significant difference between observed and simulated data\")\n",
    "\n",
    "plt.tight_layout()\n",
    "plt.show()"
   ]
  }
 ],
 "metadata": {
  "kernelspec": {
   "display_name": "project",
   "language": "python",
   "name": "python3"
  },
  "language_info": {
   "codemirror_mode": {
    "name": "ipython",
    "version": 3
   },
   "file_extension": ".py",
   "mimetype": "text/x-python",
   "name": "python",
   "nbconvert_exporter": "python",
   "pygments_lexer": "ipython3",
   "version": "3.12.2"
  }
 },
 "nbformat": 4,
 "nbformat_minor": 2
}
